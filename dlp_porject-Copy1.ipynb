{
 "cells": [
  {
   "cell_type": "code",
   "execution_count": null,
   "metadata": {},
   "outputs": [
    {
     "name": "stderr",
     "output_type": "stream",
     "text": [
      " * Running on http://127.0.0.1:8050/ (Press CTRL+C to quit)\n",
      "127.0.0.1 - - [22/Oct/2020 23:03:33] \"GET / HTTP/1.1\" 200 -\n",
      "127.0.0.1 - - [22/Oct/2020 23:03:33] \"GET /_dash-layout HTTP/1.1\" 200 -\n",
      "127.0.0.1 - - [22/Oct/2020 23:03:33] \"GET /_dash-dependencies HTTP/1.1\" 200 -\n",
      "127.0.0.1 - - [22/Oct/2020 23:03:33] \"GET /favicon.ico HTTP/1.1\" 200 -\n",
      "127.0.0.1 - - [22/Oct/2020 23:03:34] \"POST /_dash-update-component HTTP/1.1\" 200 -\n"
     ]
    }
   ],
   "source": [
    "import pandas as pd\n",
    "import numpy as np\n",
    "import plotly as py\n",
    "import plotly.offline as pyo\n",
    "import plotly.graph_objs as go\n",
    "import dash\n",
    "import dash_core_components as dcc\n",
    "import dash_html_components as html\n",
    "from dash.dependencies import Input, Output\n",
    "\n",
    "app = dash.Dash()\n",
    "\n",
    "df = pd.read_csv('Pico_EOL_1022.csv')\n",
    "\n",
    "df.drop_duplicates(subset =['ChildLot'], keep='first', inplace = True)\n",
    "\n",
    "features = df.columns\n",
    "\n",
    "app.layout = html.Div([\n",
    "\n",
    "        html.Div([\n",
    "            dcc.Dropdown(\n",
    "                id='xaxis',\n",
    "                options=[{'label': i.title(), 'value': i} for i in features],\n",
    "                value='T4_Bin20_rate'\n",
    "            )\n",
    "        ],\n",
    "        style={'width': '48%', 'display': 'inline-block'}),\n",
    "\n",
    "        html.Div([\n",
    "            dcc.Dropdown(\n",
    "                id='yaxis',\n",
    "                options=[{'label': i.title(), 'value': i} for i in features],\n",
    "                value='AVG_SI_VLATCH'\n",
    "            )\n",
    "        ],style={'width': '48%', 'float': 'right', 'display': 'inline-block'}),\n",
    "\n",
    "    dcc.Graph(id='feature-graphic')\n",
    "], style={'padding':10})\n",
    "\n",
    "@app.callback(\n",
    "    Output('feature-graphic', 'figure'),\n",
    "    [Input('xaxis', 'value'),\n",
    "     Input('yaxis', 'value')])\n",
    "\n",
    "def update_graph(xaxis_name, yaxis_name):\n",
    "    return {\n",
    "        'data': [go.Scatter(\n",
    "            x=df[xaxis_name],\n",
    "            y=df[yaxis_name],\n",
    "            text=df['Product'],\n",
    "            mode='markers',\n",
    "            marker={\n",
    "                'size': 15,\n",
    "                'opacity': 0.5,\n",
    "                'line': {'width': 0.5, 'color': 'white'}\n",
    "            }\n",
    "        )],\n",
    "        'layout': go.Layout(\n",
    "            xaxis={'title': xaxis_name.title()},\n",
    "            yaxis={'title': yaxis_name.title()},\n",
    "            margin={'l': 40, 'b': 40, 't': 10, 'r': 0},\n",
    "            hovermode='closest'\n",
    "        )\n",
    "    }\n",
    "\n",
    "\n",
    "if __name__ == '__main__':\n",
    "    app.run_server()\n"
   ]
  },
  {
   "cell_type": "code",
   "execution_count": 7,
   "metadata": {},
   "outputs": [
    {
     "name": "stdout",
     "output_type": "stream",
     "text": [
      "['33 1080P 3G' '47 1080P 3G' '3 720P 3G' '2WVGA Holatek' '47 4K S317 3G'\n",
      " '47 4K 3G' '3 720P 3D UV S318' '47 1080P LC 3G' '3 720P 3D UV S245'\n",
      " '.23 HD 3G' '.23 FHD 3G' '2WVGA 3G' '.45WXGA S241 3G' '.2nHD 3G'\n",
      " '47 1080P PLM' '.45WXGA S310 3G' '2WVGA LC 3G' '2WVGA NIR 3G'\n",
      " '47 1080P LP 3G' nan '.23 qHD 3G']\n"
     ]
    }
   ],
   "source": [
    "Test = df['Product'].unique()\n",
    "print(Test)"
   ]
  },
  {
   "cell_type": "code",
   "execution_count": null,
   "metadata": {},
   "outputs": [],
   "source": []
  }
 ],
 "metadata": {
  "kernelspec": {
   "display_name": "Python 3",
   "language": "python",
   "name": "python3"
  },
  "language_info": {
   "codemirror_mode": {
    "name": "ipython",
    "version": 3
   },
   "file_extension": ".py",
   "mimetype": "text/x-python",
   "name": "python",
   "nbconvert_exporter": "python",
   "pygments_lexer": "ipython3",
   "version": "3.6.4"
  }
 },
 "nbformat": 4,
 "nbformat_minor": 2
}
