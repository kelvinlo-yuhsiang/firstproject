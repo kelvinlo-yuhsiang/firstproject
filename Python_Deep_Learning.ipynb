{
  "nbformat": 4,
  "nbformat_minor": 0,
  "metadata": {
    "colab": {
      "name": "Python Deep Learning",
      "provenance": [],
      "collapsed_sections": [],
      "include_colab_link": true
    },
    "kernelspec": {
      "name": "python3",
      "display_name": "Python 3"
    },
    "accelerator": "GPU"
  },
  "cells": [
    {
      "cell_type": "markdown",
      "metadata": {
        "id": "view-in-github",
        "colab_type": "text"
      },
      "source": [
        "<a href=\"https://colab.research.google.com/github/kelvinlo-yuhsiang/firstproject/blob/main/Python_Deep_Learning.ipynb\" target=\"_parent\"><img src=\"https://colab.research.google.com/assets/colab-badge.svg\" alt=\"Open In Colab\"/></a>"
      ]
    },
    {
      "cell_type": "markdown",
      "metadata": {
        "id": "qDZAjr63gHHy"
      },
      "source": [
        "#載入 Keras"
      ]
    },
    {
      "cell_type": "code",
      "metadata": {
        "id": "JInZ5J0N5Fu4"
      },
      "source": [
        "import os\n",
        "import sys\n",
        "import csv\n",
        "import math\n",
        "import numpy as np\n",
        "import matplotlib.pyplot as plt\n",
        "from keras.models import Sequential, load_model\n",
        "from keras.layers import TimeDistributed\n",
        "from keras.layers.core import Dense, Activation, Dropout, Lambda, RepeatVector\n",
        "from keras.layers.recurrent import LSTM\n",
        "from keras.callbacks import ModelCheckpoint\n",
        "from sklearn.preprocessing import MinMaxScaler"
      ],
      "execution_count": null,
      "outputs": []
    },
    {
      "cell_type": "markdown",
      "metadata": {
        "id": "ng7502bo5JAN"
      },
      "source": [
        "#載入股價data"
      ]
    },
    {
      "cell_type": "code",
      "metadata": {
        "id": "6bt36Rd8glNi",
        "colab": {
          "base_uri": "https://localhost:8080/"
        },
        "outputId": "89edef7b-4819-4641-8b97-376254349df4"
      },
      "source": [
        "import datetime\n",
        "import requests\n",
        "import pandas as pd\n",
        "url = \"https://api.finmindtrade.com/api/v4/data\"\n",
        "parameter = {\n",
        "    \"dataset\": \"TaiwanStockPrice\",\n",
        "    \"data_id\": \"2330\",\n",
        "    \"start_date\": \"2018-09-26\",\n",
        "    \"end_date\": \"2021-09-26\",\n",
        "    \"token\": \"\", # 參考登入，獲取金鑰\n",
        "}\n",
        "resp = requests.get(url, params=parameter)\n",
        "data = resp.json()\n",
        "df_2330 = pd.DataFrame(data[\"data\"])\n",
        "df_2330.to_csv('/content/df_2330.csv', encoding = \"utf-8\",index=False)\n",
        "print(df_2330.head())\n",
        "\n",
        "data=df_2330[[\"open\",\"max\",\"min\",\"close\",\"Trading_Volume\"]]\n",
        "#data=df_all[[\"Open\",\"High\",\"Low\",\"Close\",\"Volume\",\"TWII\"]]\n",
        "data.to_csv('/content/data.csv', encoding = 'utf-8', index=False)\n",
        "data=pd.read_csv('/content/data.csv', encoding = \"utf-8\")\n",
        "print(data)"
      ],
      "execution_count": null,
      "outputs": [
        {
          "output_type": "stream",
          "name": "stdout",
          "text": [
            "         date stock_id  Trading_Volume  ...  close  spread  Trading_turnover\n",
            "0  2018-09-26     2330        25061115  ...  263.5     0.0              7007\n",
            "1  2018-09-27     2330        38495371  ...  265.0     1.5             11536\n",
            "2  2018-09-28     2330        39645486  ...  262.5    -2.5             13060\n",
            "3  2018-10-01     2330        22409380  ...  263.0     0.5             11914\n",
            "4  2018-10-02     2330        38391491  ...  257.5    -5.5             17095\n",
            "\n",
            "[5 rows x 10 columns]\n",
            "      open    max    min  close  Trading_Volume\n",
            "0    263.0  263.5  261.0  263.5        25061115\n",
            "1    264.0  266.0  262.0  265.0        38495371\n",
            "2    266.0  266.0  260.0  262.5        39645486\n",
            "3    262.0  264.0  261.0  263.0        22409380\n",
            "4    262.0  263.0  257.0  257.5        38391491\n",
            "..     ...    ...    ...    ...             ...\n",
            "720  622.0  627.0  612.0  619.0        38713621\n",
            "721  612.0  620.0  610.0  619.0        19309522\n",
            "722  615.0  623.0  614.0  622.0        16740439\n",
            "723  619.0  620.0  613.0  615.0        15809768\n",
            "724  618.0  618.0  612.0  613.0        16024935\n",
            "\n",
            "[725 rows x 5 columns]\n"
          ]
        }
      ]
    },
    {
      "cell_type": "markdown",
      "metadata": {
        "id": "CzmurOoZhf1p"
      },
      "source": [
        "#資料正規化"
      ]
    },
    {
      "cell_type": "code",
      "metadata": {
        "id": "Ri6FMvIIdWUx",
        "colab": {
          "base_uri": "https://localhost:8080/"
        },
        "outputId": "b973aecb-0060-41c5-820d-7a488bcde4b2"
      },
      "source": [
        "scaler = MinMaxScaler(feature_range=(0, 1))\n",
        "\n",
        "# read data from csv, return data: (Samples, feature)\n",
        "#data = file_processing('20180525_50.csv')\n",
        "\n",
        "feature_len = data.shape[1]\n",
        "\n",
        "# normalize data\n",
        "minmaxscaler = scaler.fit(data)\n",
        "data = minmaxscaler.transform(data)\n",
        "\n",
        "print(data)"
      ],
      "execution_count": null,
      "outputs": [
        {
          "output_type": "stream",
          "name": "stdout",
          "text": [
            "[[0.11381215 0.11122995 0.12017641 0.11935484 0.11903678]\n",
            " [0.1160221  0.11657754 0.12238148 0.12258065 0.19949467]\n",
            " [0.12044199 0.11657754 0.11797133 0.1172043  0.20638272]\n",
            " ...\n",
            " [0.89171271 0.8802139  0.8985667  0.89032258 0.06920416]\n",
            " [0.90055249 0.87379679 0.89636163 0.87526882 0.06363036]\n",
            " [0.89834254 0.86951872 0.89415656 0.87096774 0.064919  ]]\n"
          ]
        }
      ]
    },
    {
      "cell_type": "markdown",
      "metadata": {
        "id": "z1tG4LuN6jZe"
      },
      "source": [
        "#把資料切成 train 與 validation"
      ]
    },
    {
      "cell_type": "code",
      "metadata": {
        "id": "RTjVKbI-6tFw",
        "colab": {
          "base_uri": "https://localhost:8080/"
        },
        "outputId": "ed0566e4-1494-443d-ddae-da653c143571"
      },
      "source": [
        "#學習過去幾天\n",
        "time_step=20\n",
        "\n",
        "after_day=1\n",
        "#20% 小考\n",
        "#80% 教學\n",
        "validate_percent=0.8\n",
        "\n",
        "seq_length = time_step + after_day\n",
        "#21 天(21筆)資料切成 一分\n",
        "\n",
        "result = []\n",
        "for index in range(len(data) - seq_length + 1):\n",
        "    result.append(data[index: index + seq_length])\n",
        "    \n",
        "\n",
        "#表格變成矩陣\n",
        "result = np.array(result)\n",
        "print('total data: ', result.shape)\n",
        "#total data:  (709, 21, 5)\n",
        "\n",
        "train_size = int(len(result) * validate_percent)\n",
        "train = result[:train_size, :]\n",
        "#0.8學習\n",
        "validate = result[train_size:, :]\n",
        "#0.2考試\n",
        "\n",
        "x_train = train[:, :time_step]\n",
        "y_train = train[:, time_step:]\n",
        "x_validate = validate[:, :time_step]\n",
        "y_validate = validate[:, time_step:]\n",
        "\n",
        "# test data\n",
        "x_test = data[-time_step:]\n",
        "x_test = np.reshape(x_test, (1, x_test.shape[0], x_test.shape[1]))\n",
        "\n",
        "print('train data: ', x_train.shape, y_train.shape)\n",
        "print('validate data: ', x_validate.shape, y_validate.shape)"
      ],
      "execution_count": null,
      "outputs": [
        {
          "output_type": "stream",
          "name": "stdout",
          "text": [
            "total data:  (705, 21, 5)\n",
            "train data:  (564, 20, 5) (564, 1, 5)\n",
            "validate data:  (141, 20, 5) (141, 1, 5)\n"
          ]
        }
      ]
    },
    {
      "cell_type": "code",
      "metadata": {
        "id": "nnCCXMtX-DNM",
        "colab": {
          "base_uri": "https://localhost:8080/"
        },
        "outputId": "b82a85c5-ad62-4fd0-a5ca-b7d2ab264fe9"
      },
      "source": [
        "#過去20筆數據\n",
        "x_train[110,:,:]"
      ],
      "execution_count": null,
      "outputs": [
        {
          "output_type": "execute_result",
          "data": {
            "text/plain": [
              "array([[0.06077348, 0.05882353, 0.06063947, 0.05698925, 0.07244372],\n",
              "       [0.05635359, 0.05989305, 0.06394708, 0.06666667, 0.17582226],\n",
              "       [0.06187845, 0.0631016 , 0.07166483, 0.07096774, 0.13089152],\n",
              "       [0.06077348, 0.06203209, 0.06945976, 0.06989247, 0.05650489],\n",
              "       [0.06740331, 0.06524064, 0.07276736, 0.07311828, 0.10702795],\n",
              "       [0.06850829, 0.07272727, 0.07607497, 0.08064516, 0.13373014],\n",
              "       [0.08066298, 0.07914439, 0.08379272, 0.08709677, 0.10667158],\n",
              "       [0.0640884 , 0.0684492 , 0.07497244, 0.07204301, 0.08437322],\n",
              "       [0.06961326, 0.06951872, 0.07607497, 0.07741935, 0.09503315],\n",
              "       [0.06740331, 0.06631016, 0.07497244, 0.07204301, 0.11041843],\n",
              "       [0.0640884 , 0.06631016, 0.0738699 , 0.07311828, 0.05277999],\n",
              "       [0.06961326, 0.07272727, 0.07497244, 0.08064516, 0.15475341],\n",
              "       [0.08729282, 0.08449198, 0.08489526, 0.08064516, 0.18054116],\n",
              "       [0.0839779 , 0.08128342, 0.08710033, 0.08172043, 0.119803  ],\n",
              "       [0.08287293, 0.0802139 , 0.08820287, 0.0827957 , 0.14011934],\n",
              "       [0.08729282, 0.08877005, 0.09702315, 0.09677419, 0.24699621],\n",
              "       [0.09171271, 0.09090909, 0.10033076, 0.09892473, 0.10516958],\n",
              "       [0.09171271, 0.09197861, 0.10033076, 0.09892473, 0.16763052],\n",
              "       [0.09171271, 0.09090909, 0.09922822, 0.09462366, 0.11955018],\n",
              "       [0.08839779, 0.08877005, 0.09812569, 0.09462366, 0.05212176]])"
            ]
          },
          "metadata": {},
          "execution_count": 7
        }
      ]
    },
    {
      "cell_type": "code",
      "metadata": {
        "id": "mtJiLVbM-WZy",
        "colab": {
          "base_uri": "https://localhost:8080/"
        },
        "outputId": "58c96c4f-8e9f-47aa-cdb4-ac4df9684d83"
      },
      "source": [
        "y_train[110,:,:]"
      ],
      "execution_count": null,
      "outputs": [
        {
          "output_type": "execute_result",
          "data": {
            "text/plain": [
              "array([[0.0961326 , 0.09518717, 0.1047409 , 0.10215054, 0.07229786]])"
            ]
          },
          "metadata": {},
          "execution_count": 8
        }
      ]
    },
    {
      "cell_type": "markdown",
      "metadata": {
        "id": "zFLOx1rTdR8H"
      },
      "source": [
        "#建立模型"
      ]
    },
    {
      "cell_type": "code",
      "metadata": {
        "id": "hhWPXcV1xKPz",
        "colab": {
          "base_uri": "https://localhost:8080/"
        },
        "outputId": "5ff3cc42-bff4-4c1d-cba6-770ecf1318d6"
      },
      "source": [
        "#過去天數\n",
        "def base_model(feature_len=1, after_day=1, input_shape=(30, 1)):\n",
        "    model = Sequential()\n",
        "\n",
        "    model.add(LSTM(units=200, return_sequences=False, input_shape=input_shape))\n",
        "    #model.add(LSTM(units=100, return_sequences=False, input_shape=input_shape))\n",
        "\n",
        "    model.add(Dropout(0.1))\n",
        "\n",
        "    # one to many\n",
        "    model.add(RepeatVector(after_day))\n",
        "    model.add(LSTM(200, return_sequences=True))\n",
        "    #model.add(LSTM(50, return_sequences=True))\n",
        "\n",
        "    model.add(Dropout(0.1))\n",
        "    model.add(TimeDistributed(Dense(units=feature_len, activation='linear')))\n",
        "\n",
        "    return model\n",
        "\n",
        "# model complie\n",
        "input_shape = (time_step, feature_len)\n",
        "model = base_model(feature_len, after_day, input_shape)\n",
        "model.compile(loss='mse', optimizer='adam')\n",
        "model.summary()"
      ],
      "execution_count": null,
      "outputs": [
        {
          "output_type": "stream",
          "name": "stdout",
          "text": [
            "Model: \"sequential\"\n",
            "_________________________________________________________________\n",
            "Layer (type)                 Output Shape              Param #   \n",
            "=================================================================\n",
            "lstm (LSTM)                  (None, 200)               164800    \n",
            "_________________________________________________________________\n",
            "dropout (Dropout)            (None, 200)               0         \n",
            "_________________________________________________________________\n",
            "repeat_vector (RepeatVector) (None, 1, 200)            0         \n",
            "_________________________________________________________________\n",
            "lstm_1 (LSTM)                (None, 1, 200)            320800    \n",
            "_________________________________________________________________\n",
            "dropout_1 (Dropout)          (None, 1, 200)            0         \n",
            "_________________________________________________________________\n",
            "time_distributed (TimeDistri (None, 1, 5)              1005      \n",
            "=================================================================\n",
            "Total params: 486,605\n",
            "Trainable params: 486,605\n",
            "Non-trainable params: 0\n",
            "_________________________________________________________________\n"
          ]
        }
      ]
    },
    {
      "cell_type": "markdown",
      "metadata": {
        "id": "YplqJnX58xNS"
      },
      "source": [
        "#開始 training"
      ]
    },
    {
      "cell_type": "code",
      "metadata": {
        "id": "RN_QMrjl2QTg",
        "colab": {
          "base_uri": "https://localhost:8080/"
        },
        "outputId": "9d0f147a-cb9a-4364-8056-ae11ae87f66a"
      },
      "source": [
        "batch_size = 64\n",
        "epochs = 100\n",
        "\n",
        "model_name=\"first_RNN\"\n",
        "history = model.fit(x_train, y_train, batch_size=batch_size, epochs=epochs, validation_data=(x_validate, y_validate), verbose=2)\n",
        "\n",
        "file_path = 'model/{}.h5'.format(model_name)\n",
        "if not os.path.exists(os.path.dirname(file_path)):\n",
        "    try:\n",
        "        os.makedirs(os.path.dirname(file_path))\n",
        "    except OSError as exc: # Guard against race condition\n",
        "        if exc.errno != errno.EEXIST:\n",
        "            raise\n",
        "\n",
        "\n",
        "train_predict = model.predict(x_train)\n",
        "validate_predict = model.predict(x_validate)\n",
        "test_predict = model.predict(x_test)\n"
      ],
      "execution_count": null,
      "outputs": [
        {
          "output_type": "stream",
          "name": "stdout",
          "text": [
            "Epoch 1/100\n",
            "9/9 - 9s - loss: 0.0584 - val_loss: 0.0308\n",
            "Epoch 2/100\n",
            "9/9 - 1s - loss: 0.0121 - val_loss: 0.0102\n",
            "Epoch 3/100\n",
            "9/9 - 1s - loss: 0.0063 - val_loss: 0.0162\n",
            "Epoch 4/100\n",
            "9/9 - 1s - loss: 0.0048 - val_loss: 0.0056\n",
            "Epoch 5/100\n",
            "9/9 - 1s - loss: 0.0044 - val_loss: 0.0062\n",
            "Epoch 6/100\n",
            "9/9 - 1s - loss: 0.0041 - val_loss: 0.0054\n",
            "Epoch 7/100\n",
            "9/9 - 1s - loss: 0.0041 - val_loss: 0.0078\n",
            "Epoch 8/100\n",
            "9/9 - 1s - loss: 0.0039 - val_loss: 0.0058\n",
            "Epoch 9/100\n",
            "9/9 - 1s - loss: 0.0039 - val_loss: 0.0064\n",
            "Epoch 10/100\n",
            "9/9 - 1s - loss: 0.0038 - val_loss: 0.0102\n",
            "Epoch 11/100\n",
            "9/9 - 1s - loss: 0.0039 - val_loss: 0.0072\n",
            "Epoch 12/100\n",
            "9/9 - 1s - loss: 0.0038 - val_loss: 0.0043\n",
            "Epoch 13/100\n",
            "9/9 - 1s - loss: 0.0036 - val_loss: 0.0047\n",
            "Epoch 14/100\n",
            "9/9 - 1s - loss: 0.0037 - val_loss: 0.0051\n",
            "Epoch 15/100\n",
            "9/9 - 1s - loss: 0.0036 - val_loss: 0.0045\n",
            "Epoch 16/100\n",
            "9/9 - 1s - loss: 0.0035 - val_loss: 0.0075\n",
            "Epoch 17/100\n",
            "9/9 - 1s - loss: 0.0035 - val_loss: 0.0057\n",
            "Epoch 18/100\n",
            "9/9 - 1s - loss: 0.0034 - val_loss: 0.0056\n",
            "Epoch 19/100\n",
            "9/9 - 1s - loss: 0.0034 - val_loss: 0.0044\n",
            "Epoch 20/100\n",
            "9/9 - 1s - loss: 0.0034 - val_loss: 0.0074\n",
            "Epoch 21/100\n",
            "9/9 - 1s - loss: 0.0033 - val_loss: 0.0084\n",
            "Epoch 22/100\n",
            "9/9 - 1s - loss: 0.0033 - val_loss: 0.0075\n",
            "Epoch 23/100\n",
            "9/9 - 1s - loss: 0.0032 - val_loss: 0.0051\n",
            "Epoch 24/100\n",
            "9/9 - 1s - loss: 0.0031 - val_loss: 0.0045\n",
            "Epoch 25/100\n",
            "9/9 - 1s - loss: 0.0031 - val_loss: 0.0039\n",
            "Epoch 26/100\n",
            "9/9 - 1s - loss: 0.0033 - val_loss: 0.0037\n",
            "Epoch 27/100\n",
            "9/9 - 1s - loss: 0.0031 - val_loss: 0.0035\n",
            "Epoch 28/100\n",
            "9/9 - 1s - loss: 0.0031 - val_loss: 0.0041\n",
            "Epoch 29/100\n",
            "9/9 - 1s - loss: 0.0031 - val_loss: 0.0046\n",
            "Epoch 30/100\n",
            "9/9 - 1s - loss: 0.0032 - val_loss: 0.0050\n",
            "Epoch 31/100\n",
            "9/9 - 1s - loss: 0.0031 - val_loss: 0.0053\n",
            "Epoch 32/100\n",
            "9/9 - 1s - loss: 0.0031 - val_loss: 0.0075\n",
            "Epoch 33/100\n",
            "9/9 - 1s - loss: 0.0033 - val_loss: 0.0036\n",
            "Epoch 34/100\n",
            "9/9 - 1s - loss: 0.0032 - val_loss: 0.0047\n",
            "Epoch 35/100\n",
            "9/9 - 1s - loss: 0.0031 - val_loss: 0.0047\n",
            "Epoch 36/100\n",
            "9/9 - 1s - loss: 0.0030 - val_loss: 0.0043\n",
            "Epoch 37/100\n",
            "9/9 - 1s - loss: 0.0030 - val_loss: 0.0056\n",
            "Epoch 38/100\n",
            "9/9 - 1s - loss: 0.0031 - val_loss: 0.0033\n",
            "Epoch 39/100\n",
            "9/9 - 1s - loss: 0.0030 - val_loss: 0.0033\n",
            "Epoch 40/100\n",
            "9/9 - 1s - loss: 0.0030 - val_loss: 0.0044\n",
            "Epoch 41/100\n",
            "9/9 - 1s - loss: 0.0030 - val_loss: 0.0049\n",
            "Epoch 42/100\n",
            "9/9 - 1s - loss: 0.0030 - val_loss: 0.0036\n",
            "Epoch 43/100\n",
            "9/9 - 1s - loss: 0.0029 - val_loss: 0.0058\n",
            "Epoch 44/100\n",
            "9/9 - 1s - loss: 0.0030 - val_loss: 0.0029\n",
            "Epoch 45/100\n",
            "9/9 - 1s - loss: 0.0030 - val_loss: 0.0041\n",
            "Epoch 46/100\n",
            "9/9 - 1s - loss: 0.0031 - val_loss: 0.0050\n",
            "Epoch 47/100\n",
            "9/9 - 1s - loss: 0.0029 - val_loss: 0.0029\n",
            "Epoch 48/100\n",
            "9/9 - 1s - loss: 0.0029 - val_loss: 0.0039\n",
            "Epoch 49/100\n",
            "9/9 - 1s - loss: 0.0029 - val_loss: 0.0049\n",
            "Epoch 50/100\n",
            "9/9 - 1s - loss: 0.0029 - val_loss: 0.0040\n",
            "Epoch 51/100\n",
            "9/9 - 1s - loss: 0.0029 - val_loss: 0.0048\n",
            "Epoch 52/100\n",
            "9/9 - 1s - loss: 0.0029 - val_loss: 0.0034\n",
            "Epoch 53/100\n",
            "9/9 - 1s - loss: 0.0030 - val_loss: 0.0034\n",
            "Epoch 54/100\n",
            "9/9 - 1s - loss: 0.0029 - val_loss: 0.0055\n",
            "Epoch 55/100\n",
            "9/9 - 1s - loss: 0.0030 - val_loss: 0.0037\n",
            "Epoch 56/100\n",
            "9/9 - 1s - loss: 0.0029 - val_loss: 0.0028\n",
            "Epoch 57/100\n",
            "9/9 - 1s - loss: 0.0029 - val_loss: 0.0052\n",
            "Epoch 58/100\n",
            "9/9 - 1s - loss: 0.0029 - val_loss: 0.0037\n",
            "Epoch 59/100\n",
            "9/9 - 1s - loss: 0.0030 - val_loss: 0.0031\n",
            "Epoch 60/100\n",
            "9/9 - 1s - loss: 0.0029 - val_loss: 0.0054\n",
            "Epoch 61/100\n",
            "9/9 - 1s - loss: 0.0028 - val_loss: 0.0034\n",
            "Epoch 62/100\n",
            "9/9 - 1s - loss: 0.0029 - val_loss: 0.0063\n",
            "Epoch 63/100\n",
            "9/9 - 1s - loss: 0.0028 - val_loss: 0.0030\n",
            "Epoch 64/100\n",
            "9/9 - 1s - loss: 0.0028 - val_loss: 0.0041\n",
            "Epoch 65/100\n",
            "9/9 - 1s - loss: 0.0027 - val_loss: 0.0032\n",
            "Epoch 66/100\n",
            "9/9 - 1s - loss: 0.0028 - val_loss: 0.0049\n",
            "Epoch 67/100\n",
            "9/9 - 1s - loss: 0.0028 - val_loss: 0.0033\n",
            "Epoch 68/100\n",
            "9/9 - 1s - loss: 0.0029 - val_loss: 0.0033\n",
            "Epoch 69/100\n",
            "9/9 - 1s - loss: 0.0028 - val_loss: 0.0028\n",
            "Epoch 70/100\n",
            "9/9 - 1s - loss: 0.0029 - val_loss: 0.0056\n",
            "Epoch 71/100\n",
            "9/9 - 1s - loss: 0.0027 - val_loss: 0.0037\n",
            "Epoch 72/100\n",
            "9/9 - 1s - loss: 0.0029 - val_loss: 0.0064\n",
            "Epoch 73/100\n",
            "9/9 - 1s - loss: 0.0029 - val_loss: 0.0031\n",
            "Epoch 74/100\n",
            "9/9 - 1s - loss: 0.0028 - val_loss: 0.0031\n",
            "Epoch 75/100\n",
            "9/9 - 1s - loss: 0.0028 - val_loss: 0.0043\n",
            "Epoch 76/100\n",
            "9/9 - 1s - loss: 0.0027 - val_loss: 0.0036\n",
            "Epoch 77/100\n",
            "9/9 - 1s - loss: 0.0027 - val_loss: 0.0036\n",
            "Epoch 78/100\n",
            "9/9 - 1s - loss: 0.0027 - val_loss: 0.0036\n",
            "Epoch 79/100\n",
            "9/9 - 1s - loss: 0.0027 - val_loss: 0.0032\n",
            "Epoch 80/100\n",
            "9/9 - 1s - loss: 0.0028 - val_loss: 0.0035\n",
            "Epoch 81/100\n",
            "9/9 - 1s - loss: 0.0028 - val_loss: 0.0041\n",
            "Epoch 82/100\n",
            "9/9 - 1s - loss: 0.0027 - val_loss: 0.0035\n",
            "Epoch 83/100\n",
            "9/9 - 1s - loss: 0.0027 - val_loss: 0.0044\n",
            "Epoch 84/100\n",
            "9/9 - 1s - loss: 0.0028 - val_loss: 0.0039\n",
            "Epoch 85/100\n",
            "9/9 - 1s - loss: 0.0027 - val_loss: 0.0031\n",
            "Epoch 86/100\n",
            "9/9 - 1s - loss: 0.0028 - val_loss: 0.0050\n",
            "Epoch 87/100\n",
            "9/9 - 1s - loss: 0.0029 - val_loss: 0.0030\n",
            "Epoch 88/100\n",
            "9/9 - 1s - loss: 0.0028 - val_loss: 0.0049\n",
            "Epoch 89/100\n",
            "9/9 - 1s - loss: 0.0028 - val_loss: 0.0032\n",
            "Epoch 90/100\n",
            "9/9 - 1s - loss: 0.0027 - val_loss: 0.0031\n",
            "Epoch 91/100\n",
            "9/9 - 1s - loss: 0.0027 - val_loss: 0.0034\n",
            "Epoch 92/100\n",
            "9/9 - 1s - loss: 0.0027 - val_loss: 0.0040\n",
            "Epoch 93/100\n",
            "9/9 - 1s - loss: 0.0027 - val_loss: 0.0043\n",
            "Epoch 94/100\n",
            "9/9 - 1s - loss: 0.0027 - val_loss: 0.0034\n",
            "Epoch 95/100\n",
            "9/9 - 1s - loss: 0.0027 - val_loss: 0.0048\n",
            "Epoch 96/100\n",
            "9/9 - 1s - loss: 0.0027 - val_loss: 0.0035\n",
            "Epoch 97/100\n",
            "9/9 - 1s - loss: 0.0027 - val_loss: 0.0040\n",
            "Epoch 98/100\n",
            "9/9 - 1s - loss: 0.0027 - val_loss: 0.0037\n",
            "Epoch 99/100\n",
            "9/9 - 1s - loss: 0.0027 - val_loss: 0.0033\n",
            "Epoch 100/100\n",
            "9/9 - 1s - loss: 0.0027 - val_loss: 0.0036\n"
          ]
        }
      ]
    },
    {
      "cell_type": "code",
      "metadata": {
        "id": "AB2DIvOdKlOV",
        "colab": {
          "base_uri": "https://localhost:8080/",
          "height": 295
        },
        "outputId": "0583338d-5ed2-43f5-ee6a-a53949266beb"
      },
      "source": [
        "file_name = 'result_' + model_name\n",
        "file_name = 'loss_' + model_name\n",
        "file_path = 'images/loss/{}.png'.format(file_name)\n",
        "if not os.path.exists(os.path.dirname(file_path)):\n",
        "    try:\n",
        "        os.makedirs(os.path.dirname(file_path))\n",
        "    except OSError as exc: # Guard against race condition\n",
        "        if exc.errno != errno.EEXIST:\n",
        "            raise\n",
        "\n",
        "plt.figure()\n",
        "\n",
        "plt.plot(history.history['loss'])\n",
        "plt.plot(history.history['val_loss'])\n",
        "plt.title('model train vs validation loss')\n",
        "plt.ylabel('loss')\n",
        "plt.xlabel('epoch')\n",
        "plt.legend(['train', 'validat ion'], loc='upper right')\n",
        "plt.savefig(file_path)"
      ],
      "execution_count": null,
      "outputs": [
        {
          "output_type": "display_data",
          "data": {
            "image/png": "[encoded data removed]",
            "text/plain": [
              "<Figure size 432x288 with 1 Axes>"
            ]
          },
          "metadata": {
            "needs_background": "light"
          }
        }
      ]
    },
    {
      "cell_type": "markdown",
      "metadata": {
        "id": "kmdfepiFlcLF"
      },
      "source": [
        "#https://keras.io/api/layers/recurrent_layers/\n",
        "##https://www.parenting.com.tw/article/5080961-/\n",
        "##https://wenwu53.medium.com/%E6%A9%9F%E5%99%A8%E5%AD%B8%E7%BF%92%E8%87%AA%E5%AD%B8%E7%AD%86%E8%A8%9809-keras2-0-3e5c9ac1658f\n"
      ]
    },
    {
      "cell_type": "markdown",
      "metadata": {
        "id": "vRUaLDwS87Ps"
      },
      "source": [
        "#回測。跟歷史比較結果如何?"
      ]
    },
    {
      "cell_type": "code",
      "metadata": {
        "id": "XgmNgvlt9DKO",
        "colab": {
          "base_uri": "https://localhost:8080/",
          "height": 311
        },
        "outputId": "e58b9a81-54a4-41c3-ebf3-3bf30b9f2427"
      },
      "source": [
        "def inverse_normalize_data(data, scaler):\n",
        "    for i in range(len(data)):\n",
        "        data[i] = scaler.inverse_transform(data[i])\n",
        "\n",
        "    return data\n",
        "\n",
        "# 回復預測資料值為原始數據的規模\n",
        "train_predict = inverse_normalize_data(train_predict, scaler)\n",
        "x_train = inverse_normalize_data(x_train, scaler)\n",
        "y_train = inverse_normalize_data(y_train, scaler)\n",
        "validate_predict = inverse_normalize_data(validate_predict, scaler)\n",
        "y_validate = inverse_normalize_data(y_validate, scaler)\n",
        "test_predict = inverse_normalize_data(test_predict, scaler)\n",
        "\n",
        "\n",
        "# plot predict situation (save in images/result)\n",
        "file_name = 'result_' + model_name\n",
        "fig = plt.figure(figsize=(15, 10))\n",
        "ax1 = fig.add_subplot(231)\n",
        "\n",
        "ax1.plot(y_validate[:, 0, 3], color='black')\n",
        "ax1.plot(validate_predict[:, 0, 3], color='red')\n",
        "ax1.title.set_text(\"Day 1\")\n"
      ],
      "execution_count": null,
      "outputs": [
        {
          "output_type": "display_data",
          "data": {
            "image/png": "[encoded data removed]",
            "text/plain": [
              "<Figure size 1080x720 with 1 Axes>"
            ]
          },
          "metadata": {
            "needs_background": "light"
          }
        }
      ]
    },
    {
      "cell_type": "markdown",
      "metadata": {
        "id": "DsdOdPpLS6kf"
      },
      "source": [
        "#第三個聖盃：來預測一下明天的股價吧!"
      ]
    },
    {
      "cell_type": "code",
      "metadata": {
        "id": "iJIhR6TgQwMY",
        "colab": {
          "base_uri": "https://localhost:8080/"
        },
        "outputId": "5a8716c3-5d80-4f07-8e1c-13e210fa514e"
      },
      "source": [
        "# 3 or 0: close 的位置, 0:5為五天\n",
        "ans = np.append(y_validate[-1, -1, 3], test_predict[-1, 0:5, 3])\n",
        "output=[]\n",
        "output.append(ans)\n",
        "print(df_2330[\"date\"].iloc[-1]+\"收盤價:\", output[0][0])\n",
        "print(\"隔天收盤價:\", output[0][1])"
      ],
      "execution_count": null,
      "outputs": [
        {
          "output_type": "stream",
          "name": "stdout",
          "text": [
            "2021-09-14收盤價: 613.0\n",
            "隔天收盤價: 610.970947265625\n"
          ]
        }
      ]
    },
    {
      "cell_type": "markdown",
      "metadata": {
        "id": "DhHgIjifJWZB"
      },
      "source": [
        "#準不準? 可以多學幾個欄位"
      ]
    },
    {
      "cell_type": "code",
      "metadata": {
        "id": "CCMFjwFgO1qQ",
        "colab": {
          "base_uri": "https://localhost:8080/"
        },
        "outputId": "dea81f95-2fd9-4ccd-c7fe-10488e858ca1"
      },
      "source": [
        "import requests\n",
        "import pandas as pd\n",
        "url = \"https://api.finmindtrade.com/api/v4/data\"\n",
        "parameter = {\n",
        "    \"dataset\": \"TaiwanStockPrice\",\n",
        "    \"data_id\": \"0050\",\n",
        "    \"start_date\": \"2018-09-26\",\n",
        "    \"end_date\": \"2021-09-26\",\n",
        "    \"token\": \"\", # 參考登入，獲取金鑰\n",
        "}\n",
        "resp = requests.get(url, params=parameter)\n",
        "data = resp.json()\n",
        "df_0050 = pd.DataFrame(data[\"data\"])\n",
        "print(df_0050.head())"
      ],
      "execution_count": null,
      "outputs": [
        {
          "output_type": "stream",
          "name": "stdout",
          "text": [
            "         date stock_id  Trading_Volume  ...  close  spread  Trading_turnover\n",
            "0  2018-09-26     0050         8036503  ...  86.90   -0.20              2692\n",
            "1  2018-09-27     0050        27800036  ...  87.35    0.45              8114\n",
            "2  2018-09-28     0050        13202371  ...  86.90   -0.45              4328\n",
            "3  2018-10-01     0050         5914234  ...  87.35    0.45              2729\n",
            "4  2018-10-02     0050         5434332  ...  86.05   -1.30              2466\n",
            "\n",
            "[5 rows x 10 columns]\n"
          ]
        }
      ]
    },
    {
      "cell_type": "code",
      "metadata": {
        "id": "BuLUuHtOTv-9"
      },
      "source": [
        "df_0050=df_0050.rename(columns={\"close\":\"0050\"})"
      ],
      "execution_count": null,
      "outputs": []
    },
    {
      "cell_type": "code",
      "metadata": {
        "id": "n2wp_eYmJkbK",
        "colab": {
          "base_uri": "https://localhost:8080/"
        },
        "outputId": "b79addef-399d-4c37-bcf8-7cf8cfca71ed"
      },
      "source": [
        "#加在右邊\n",
        "df_all=df_2330.join(df_0050['0050'])\n",
        "print(df_all)"
      ],
      "execution_count": null,
      "outputs": [
        {
          "output_type": "stream",
          "name": "stdout",
          "text": [
            "           date stock_id  Trading_Volume  ...  spread  Trading_turnover    0050\n",
            "0    2018-09-26     2330        25061115  ...     0.0              7007   86.90\n",
            "1    2018-09-27     2330        38495371  ...     1.5             11536   87.35\n",
            "2    2018-09-28     2330        39645486  ...    -2.5             13060   86.90\n",
            "3    2018-10-01     2330        22409380  ...     0.5             11914   87.35\n",
            "4    2018-10-02     2330        38391491  ...    -5.5             17095   86.05\n",
            "..          ...      ...             ...  ...     ...               ...     ...\n",
            "720  2021-09-08     2330        38713621  ...    -4.0             38267  140.65\n",
            "721  2021-09-09     2330        19309522  ...     0.0             19569  140.30\n",
            "722  2021-09-10     2330        16740439  ...     3.0             17067  141.95\n",
            "723  2021-09-13     2330        15809768  ...    -7.0             21779  141.45\n",
            "724  2021-09-14     2330        16024935  ...    -2.0             13569  141.60\n",
            "\n",
            "[725 rows x 11 columns]\n"
          ]
        }
      ]
    },
    {
      "cell_type": "code",
      "metadata": {
        "id": "tM8uWVMy4oGq"
      },
      "source": [
        ""
      ],
      "execution_count": null,
      "outputs": []
    }
  ]
}