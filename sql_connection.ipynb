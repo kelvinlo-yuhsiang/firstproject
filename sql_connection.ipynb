{
 "cells": [
  {
   "cell_type": "code",
   "execution_count": null,
   "metadata": {},
   "outputs": [],
   "source": [
    "import codecs \n",
    "from codecs import open\n",
    "import pandas as pd\n",
    "import pyodbc\n",
    "\n",
    "server = 'YODAMASTERDB' \n",
    "database = 'AMKOR_DATA' \n",
    "username = 'readonly' \n",
    "password = 'readonly' \n",
    "cnxn = pyodbc.connect('DRIVER={SQL Server};SERVER='+server+';DATABASE='+database+';UID='+username+';PWD='+ password)\n",
    "cursor = cnxn.cursor()\n",
    "\n",
    "#query_script = 'SELECT TOP 5 * FROM [AMKOR_DATA].[dbo].[DLP_ToolData]'\n",
    "\n",
    "#sql_query = pd.read_sql_query(query_script,cnxn)\n",
    "#OR sql_query = pd.read_sql_query('''SELECT TOP 5 * FROM [AMKOR_DATA].[dbo].[DLP_ToolData]''',cnxn)\n",
    "\n",
    "sql = open('Pico EOL.txt' ,'r', encoding=\"utf-8\")\n",
    "sql_query = pd.read_sql_query(sql.read(), cnxn)\n",
    "\n",
    "#sql.close() not necessary\n",
    "#cnxn.close() not necessary\n",
    "\n",
    "#print(sql_query)\n",
    "\n",
    "df = pd.DataFrame(sql_query)\n",
    "df.to_csv (r'C:\\Users\\a0223097\\Desktop\\Personal\\python_sql_course\\Pico_EOL_1022.csv', index = False)"
   ]
  },
  {
   "cell_type": "code",
   "execution_count": 4,
   "metadata": {},
   "outputs": [
    {
     "name": "stdout",
     "output_type": "stream",
     "text": [
      "Index(['ChildLot', 'ParentLot', 'TiSAPBatch', 'ProductName', 'FullDevice',\n",
      "       'Product', 'FullWaferLot', 'Wafer_Fab', 'SWR', 'DAyield',\n",
      "       ...\n",
      "       'TK2_Out_Time', 'TK2_tool', 'UVEXP_In_Time', 'UVEXP_Out_Time',\n",
      "       'UVEXP_tool', 'EVG_In_Time', 'EVG_Out_Time', 'EVG_tool', 'EVG_Recipe',\n",
      "       'SSR_OP'],\n",
      "      dtype='object', length=187)\n"
     ]
    }
   ],
   "source": [
    "print(sql_query.columns)"
   ]
  }
 ],
 "metadata": {
  "kernelspec": {
   "display_name": "Python 3",
   "language": "python",
   "name": "python3"
  },
  "language_info": {
   "codemirror_mode": {
    "name": "ipython",
    "version": 3
   },
   "file_extension": ".py",
   "mimetype": "text/x-python",
   "name": "python",
   "nbconvert_exporter": "python",
   "pygments_lexer": "ipython3",
   "version": "3.6.4"
  }
 },
 "nbformat": 4,
 "nbformat_minor": 2
}
