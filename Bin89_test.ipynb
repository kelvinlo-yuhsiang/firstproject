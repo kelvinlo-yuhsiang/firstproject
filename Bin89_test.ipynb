{
 "cells": [
  {
   "cell_type": "code",
   "execution_count": 3,
   "metadata": {},
   "outputs": [
    {
     "data": {
      "text/plain": [
       "'BIN89RATE.html'"
      ]
     },
     "execution_count": 3,
     "metadata": {},
     "output_type": "execute_result"
    }
   ],
   "source": [
    "import pandas as pd\n",
    "import numpy as np\n",
    "import plotly as py\n",
    "import plotly.offline as pyo\n",
    "import plotly.graph_objs as go\n",
    "\n",
    "\n",
    "#sql_query.drop_duplicates(subset =['ChildLot'], keep='first', inplace = True)\n",
    "\n",
    "df = pd.read_csv('EOL1019.csv')\n",
    "\n",
    "df.drop_duplicates(subset =['ChildLot'], keep='first', inplace = True)\n",
    "\n",
    "df2 = df[df['Product'] == '47 1080P LP 3G']\n",
    "#df2.set_index('T4_Tool', inplace=True)\n",
    "#df2.set_index('T4_in_TxnDateTime', inplace=True)\n",
    "\n",
    "#list_of_T4_col = [col for col in df2.columns if col.startswith('T4_Bin20')]\n",
    "#list_of_T4_time = [col for col in df2.columns if col.startswith('T4_in_TxnDateTime')]\n",
    "#df2 = df2[list_of_T4_col]\n",
    "\n",
    "#print(df2)\n",
    "\n",
    "x_values= pd.to_datetime(df2['T4_in_TxnDateTime'])\n",
    "y_values= df2['T4_Bin89_rate']\n",
    "marker_text= df2['TiSAPBatch']\n",
    "#print(x_values)\n",
    "\n",
    "#colorsIdx = {'AD-AMMX58': 'rgb(215,48,39)', 'AD-AMMX62': 'rgb(215,148,39)'}\n",
    "#cols      = df2['T4_Tool'].map(colorsIdx)\n",
    "\n",
    "\n",
    "#for t4tool in df2['T4_Tool'].unique():\n",
    "#    temp = df2.query('T4_Tool == @t4tool')\n",
    "#    print(temp)\n",
    "#    fig.add_trace( go.Scatter(x= pd.to_datetime(temp['T4_in_TxnDateTime']), \n",
    "#                           y= temp['T4_Bin89_rate'], \n",
    "#                          mode = 'markers',\n",
    "#                           marker=dict(size = 16),#, color=cols),\n",
    "                           #, showscale = True),\n",
    "                        #text=marker_text,\n",
    "#                              name = t4tool\n",
    " #                           )\n",
    " #                )\n",
    "fig = go.Figure()\n",
    "\n",
    "for t4tool, temp in df2.groupby('T4_Tool'):\n",
    "    fig.add_trace(go.Scatter(x= pd.to_datetime(temp['T4_in_TxnDateTime']), \n",
    "                           y= temp['T4_Bin89_rate'], name = t4tool, mode = 'lines+markers'\n",
    "                                          ))\n",
    "\n",
    "#boxplot_chart = go.box(y=y_values)#, boxpoints = 'all', jitter = 0.8, pointpos = 0)\n",
    "                   \n",
    "#data = [scatter_chart]\n",
    "#data = [boxplot_chart]\n",
    "\n",
    "layout = go.Layout(title='Bin89 Loss Rate',\n",
    "                  xaxis = dict(title='T4_in_TxnDateTime'),\n",
    "                  yaxis = dict(title='T4_Bin89_rate'))\n",
    "\n",
    "#fig = go.Figure(data=data, layout=layout)\n",
    "\n",
    "\n",
    "pyo.plot(fig, filename = 'BIN89RATE.html')"
   ]
  },
  {
   "cell_type": "code",
   "execution_count": 3,
   "metadata": {},
   "outputs": [
    {
     "data": {
      "text/plain": [
       "'4.11.0'"
      ]
     },
     "execution_count": 3,
     "metadata": {},
     "output_type": "execute_result"
    }
   ],
   "source": [
    "py.__version__"
   ]
  },
  {
   "cell_type": "code",
   "execution_count": 23,
   "metadata": {},
   "outputs": [
    {
     "ename": "NameError",
     "evalue": "name 'iris_df' is not defined",
     "output_type": "error",
     "traceback": [
      "\u001b[1;31m---------------------------------------------------------------------------\u001b[0m",
      "\u001b[1;31mNameError\u001b[0m                                 Traceback (most recent call last)",
      "\u001b[1;32m<ipython-input-23-dd5dd01312f8>\u001b[0m in \u001b[0;36m<module>\u001b[1;34m()\u001b[0m\n\u001b[1;32m----> 1\u001b[1;33m \u001b[0miris_df\u001b[0m\u001b[1;33m.\u001b[0m\u001b[0mgroupby\u001b[0m\u001b[1;33m\u001b[0m\u001b[0m\n\u001b[0m",
      "\u001b[1;31mNameError\u001b[0m: name 'iris_df' is not defined"
     ]
    }
   ],
   "source": []
  },
  {
   "cell_type": "code",
   "execution_count": null,
   "metadata": {},
   "outputs": [],
   "source": []
  }
 ],
 "metadata": {
  "kernelspec": {
   "display_name": "Python 3",
   "language": "python",
   "name": "python3"
  },
  "language_info": {
   "codemirror_mode": {
    "name": "ipython",
    "version": 3
   },
   "file_extension": ".py",
   "mimetype": "text/x-python",
   "name": "python",
   "nbconvert_exporter": "python",
   "pygments_lexer": "ipython3",
   "version": "3.6.4"
  }
 },
 "nbformat": 4,
 "nbformat_minor": 2
}
